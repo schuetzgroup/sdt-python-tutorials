{
 "cells": [
  {
   "cell_type": "markdown",
   "metadata": {},
   "source": [
    "# Determination of diffusion constants\n",
    "This notebook demonstrates two ways of determining 2D diffusion constants using single molecule microscopy data\n",
    "- fitting the slope and intercept of a lag time vs. MSD (mean squared deviation) plot\n",
    "- fitting the CDFs of the square displacements"
   ]
  },
  {
   "cell_type": "code",
   "execution_count": 2,
   "metadata": {},
   "outputs": [],
   "source": [
    "# Import necessary packages\n",
    "%matplotlib inline\n",
    "from pathlib import Path\n",
    "\n",
    "import matplotlib.pyplot as plt\n",
    "import numpy as np\n",
    "import pandas as pd\n",
    "import scipy.optimize\n",
    "import trackpy\n",
    "trackpy.quiet()\n",
    "\n",
    "from sdt import io, motion, config, helper"
   ]
  },
  {
   "cell_type": "markdown",
   "metadata": {},
   "source": [
    "## Download example data\n",
    "\n",
    "Get the zip file from [here](https://github.com/schuetzgroup/sdt-python-tutorials/releases/download/data/data-diffconst.zip)\n",
    "and extract it where this notebook is.\n",
    "This should give you a ``data-diffconst`` subfolder containing several image sequences of single molecule data.\n",
    "\n",
    "Of course you can also use your own data."
   ]
  },
  {
   "cell_type": "markdown",
   "metadata": {},
   "source": [
    "## Locate single molecules\n",
    "\n",
    "Launch a GUI for selecting an algorithm an appropriate parameters for single-molecule localization.\n",
    "For this\n",
    "\n",
    "- Load the files by clicking \"Add…\" and selecting\n",
    "- Double-click a file to show a preview\n",
    "- Select an algorithm (here, \"cg\" was used)\n",
    "- Select parameters (here, \n",
    "    - radius = 2\n",
    "    - Signal threshold = 100\n",
    "    - Mass threshold = 750)\n",
    "- Verify settings by looking at several files and frames\n",
    "- Click \"Locate and save\" in the bottom left corner\n",
    "- Close the window, as no further code cells can be run until the GUI is stopped.\n",
    "\n",
    "This should produce one file ending in \".h5\" for each image sequence containing the localization data and \n",
    "one \".yaml\" file describing the algorithm and parameter."
   ]
  },
  {
   "cell_type": "code",
   "execution_count": 3,
   "metadata": {},
   "outputs": [],
   "source": [
    "# Launch GUI\n",
    "# On Windows, the GUI may appear somewhere behind other windows\n",
    "!python -m sdt.gui.locator"
   ]
  },
  {
   "cell_type": "markdown",
   "metadata": {},
   "source": [
    "## Single-molecule tracking\n",
    "\n",
    "First, load the localization data created in the previous step."
   ]
  },
  {
   "cell_type": "code",
   "execution_count": 4,
   "metadata": {},
   "outputs": [],
   "source": [
    "data_dir = Path(\"data-diffconst\")  # adjust accordingly\n",
    "\n",
    "# Localization data is in the .h5 files\n",
    "loc_files = sorted(data_dir.glob(\"*.h5\"))\n",
    "# Use sdt.io.load to load each file\n",
    "loc_data = [io.load(f) for f in loc_files]"
   ]
  },
  {
   "cell_type": "markdown",
   "metadata": {},
   "source": [
    "Each single-molecule localization data is represented by a line in a table.\n",
    "The columns give the according parameters, like x and y coordinates, the signal \n",
    "amplitude (`signal`), the total intensity (`mass`), the local background per \n",
    "pixel (`bg`), the radius (`size`), and the frame number."
   ]
  },
  {
   "cell_type": "code",
   "execution_count": 5,
   "metadata": {},
   "outputs": [
    {
     "data": {
      "text/html": [
       "<div>\n",
       "<style scoped>\n",
       "    .dataframe tbody tr th:only-of-type {\n",
       "        vertical-align: middle;\n",
       "    }\n",
       "\n",
       "    .dataframe tbody tr th {\n",
       "        vertical-align: top;\n",
       "    }\n",
       "\n",
       "    .dataframe thead th {\n",
       "        text-align: right;\n",
       "    }\n",
       "</style>\n",
       "<table border=\"1\" class=\"dataframe\">\n",
       "  <thead>\n",
       "    <tr style=\"text-align: right;\">\n",
       "      <th></th>\n",
       "      <th>x</th>\n",
       "      <th>y</th>\n",
       "      <th>mass</th>\n",
       "      <th>size</th>\n",
       "      <th>ecc</th>\n",
       "      <th>frame</th>\n",
       "    </tr>\n",
       "  </thead>\n",
       "  <tbody>\n",
       "    <tr>\n",
       "      <th>0</th>\n",
       "      <td>69.212118</td>\n",
       "      <td>2.542938</td>\n",
       "      <td>1377.727560</td>\n",
       "      <td>1.385835</td>\n",
       "      <td>0.255051</td>\n",
       "      <td>0</td>\n",
       "    </tr>\n",
       "    <tr>\n",
       "      <th>1</th>\n",
       "      <td>71.529092</td>\n",
       "      <td>2.579984</td>\n",
       "      <td>1157.599384</td>\n",
       "      <td>1.563691</td>\n",
       "      <td>0.335043</td>\n",
       "      <td>0</td>\n",
       "    </tr>\n",
       "    <tr>\n",
       "      <th>2</th>\n",
       "      <td>5.631415</td>\n",
       "      <td>4.242856</td>\n",
       "      <td>1217.830711</td>\n",
       "      <td>1.513729</td>\n",
       "      <td>0.326804</td>\n",
       "      <td>0</td>\n",
       "    </tr>\n",
       "    <tr>\n",
       "      <th>3</th>\n",
       "      <td>44.815184</td>\n",
       "      <td>5.837233</td>\n",
       "      <td>869.139701</td>\n",
       "      <td>1.470629</td>\n",
       "      <td>0.271496</td>\n",
       "      <td>0</td>\n",
       "    </tr>\n",
       "    <tr>\n",
       "      <th>4</th>\n",
       "      <td>47.498069</td>\n",
       "      <td>5.818325</td>\n",
       "      <td>1897.841722</td>\n",
       "      <td>1.496071</td>\n",
       "      <td>0.116886</td>\n",
       "      <td>0</td>\n",
       "    </tr>\n",
       "  </tbody>\n",
       "</table>\n",
       "</div>"
      ],
      "text/plain": [
       "           x         y         mass      size       ecc  frame\n",
       "0  69.212118  2.542938  1377.727560  1.385835  0.255051      0\n",
       "1  71.529092  2.579984  1157.599384  1.563691  0.335043      0\n",
       "2   5.631415  4.242856  1217.830711  1.513729  0.326804      0\n",
       "3  44.815184  5.837233   869.139701  1.470629  0.271496      0\n",
       "4  47.498069  5.818325  1897.841722  1.496071  0.116886      0"
      ]
     },
     "execution_count": 5,
     "metadata": {},
     "output_type": "execute_result"
    }
   ],
   "source": [
    "loc_data[0].head()"
   ]
  },
  {
   "cell_type": "markdown",
   "metadata": {},
   "source": [
    "Localizations are linked into tracks using the `trackpy` package.\n",
    "\n",
    "Inspection of the movies suggests that molecules travel less than 3 pixels between frames, thus set `search_range = 3`.\n",
    "Allow for missed localizations by setting `memory = 1`."
   ]
  },
  {
   "cell_type": "code",
   "execution_count": 6,
   "metadata": {},
   "outputs": [],
   "source": [
    "search_range = 5\n",
    "memory = 1\n",
    "trc_data = [trackpy.link_df(d, search_range, memory=memory) for d in loc_data]"
   ]
  },
  {
   "cell_type": "markdown",
   "metadata": {},
   "source": [
    "Trackpy adds a `particle` column to the tables, which identifies trajectories."
   ]
  },
  {
   "cell_type": "code",
   "execution_count": 7,
   "metadata": {},
   "outputs": [
    {
     "data": {
      "text/html": [
       "<div>\n",
       "<style scoped>\n",
       "    .dataframe tbody tr th:only-of-type {\n",
       "        vertical-align: middle;\n",
       "    }\n",
       "\n",
       "    .dataframe tbody tr th {\n",
       "        vertical-align: top;\n",
       "    }\n",
       "\n",
       "    .dataframe thead th {\n",
       "        text-align: right;\n",
       "    }\n",
       "</style>\n",
       "<table border=\"1\" class=\"dataframe\">\n",
       "  <thead>\n",
       "    <tr style=\"text-align: right;\">\n",
       "      <th></th>\n",
       "      <th>x</th>\n",
       "      <th>y</th>\n",
       "      <th>mass</th>\n",
       "      <th>size</th>\n",
       "      <th>ecc</th>\n",
       "      <th>frame</th>\n",
       "      <th>particle</th>\n",
       "    </tr>\n",
       "  </thead>\n",
       "  <tbody>\n",
       "    <tr>\n",
       "      <th>0</th>\n",
       "      <td>69.212118</td>\n",
       "      <td>2.542938</td>\n",
       "      <td>1377.727560</td>\n",
       "      <td>1.385835</td>\n",
       "      <td>0.255051</td>\n",
       "      <td>0</td>\n",
       "      <td>0</td>\n",
       "    </tr>\n",
       "    <tr>\n",
       "      <th>98</th>\n",
       "      <td>16.162283</td>\n",
       "      <td>93.391147</td>\n",
       "      <td>793.102851</td>\n",
       "      <td>1.337286</td>\n",
       "      <td>0.114906</td>\n",
       "      <td>0</td>\n",
       "      <td>1</td>\n",
       "    </tr>\n",
       "    <tr>\n",
       "      <th>97</th>\n",
       "      <td>111.016708</td>\n",
       "      <td>90.133385</td>\n",
       "      <td>806.846225</td>\n",
       "      <td>1.404384</td>\n",
       "      <td>0.250821</td>\n",
       "      <td>0</td>\n",
       "      <td>2</td>\n",
       "    </tr>\n",
       "    <tr>\n",
       "      <th>96</th>\n",
       "      <td>63.711274</td>\n",
       "      <td>90.280541</td>\n",
       "      <td>1930.715531</td>\n",
       "      <td>1.381761</td>\n",
       "      <td>0.058513</td>\n",
       "      <td>0</td>\n",
       "      <td>3</td>\n",
       "    </tr>\n",
       "    <tr>\n",
       "      <th>95</th>\n",
       "      <td>29.304773</td>\n",
       "      <td>90.276940</td>\n",
       "      <td>1482.198752</td>\n",
       "      <td>1.313525</td>\n",
       "      <td>0.092182</td>\n",
       "      <td>0</td>\n",
       "      <td>4</td>\n",
       "    </tr>\n",
       "  </tbody>\n",
       "</table>\n",
       "</div>"
      ],
      "text/plain": [
       "             x          y         mass      size       ecc  frame  particle\n",
       "0    69.212118   2.542938  1377.727560  1.385835  0.255051      0         0\n",
       "98   16.162283  93.391147   793.102851  1.337286  0.114906      0         1\n",
       "97  111.016708  90.133385   806.846225  1.404384  0.250821      0         2\n",
       "96   63.711274  90.280541  1930.715531  1.381761  0.058513      0         3\n",
       "95   29.304773  90.276940  1482.198752  1.313525  0.092182      0         4"
      ]
     },
     "execution_count": 7,
     "metadata": {},
     "output_type": "execute_result"
    }
   ],
   "source": [
    "trc_data[0].head()"
   ]
  },
  {
   "cell_type": "markdown",
   "metadata": {},
   "source": [
    "Next, filter trajectories. \n",
    "Here, any tracks with less than 5 localizations will be discarded.\n",
    "It is possible to add additional filters as needed."
   ]
  },
  {
   "cell_type": "code",
   "execution_count": 8,
   "metadata": {},
   "outputs": [],
   "source": [
    "min_length = 5\n",
    "trc_filtered = [t.groupby(\"particle\").filter(lambda d: len(d) >= min_length) \n",
    "                for t in trc_data]"
   ]
  },
  {
   "cell_type": "markdown",
   "metadata": {},
   "source": [
    "## Calculate diffusion coefficients from MSDs\n",
    "\n",
    "First, pixels need to be converted into μm and frame number to seconds."
   ]
  },
  {
   "cell_type": "code",
   "execution_count": 9,
   "metadata": {},
   "outputs": [],
   "source": [
    "pixel_size = 0.16  # pixel size in μm\n",
    "fps = 100  # frames per second\n",
    "exposure_time = 0.004  # seconds"
   ]
  },
  {
   "cell_type": "markdown",
   "metadata": {},
   "source": [
    "Calculate ensemble MSDs and standard errors in 1000 rounds of bootstrapping"
   ]
  },
  {
   "cell_type": "code",
   "execution_count": 10,
   "metadata": {},
   "outputs": [],
   "source": [
    "msd_result = motion.Msd(trc_filtered, fps, n_lag=10, n_boot=1000, pixel_size=pixel_size)\n",
    "m, e = msd_result.get_msd()"
   ]
  },
  {
   "cell_type": "code",
   "execution_count": 11,
   "metadata": {},
   "outputs": [
    {
     "data": {
      "text/plain": [
       "lagt\n",
       "0.01    0.033115\n",
       "0.02    0.060904\n",
       "0.03    0.088196\n",
       "0.04    0.115652\n",
       "0.05    0.143012\n",
       "0.06    0.168887\n",
       "0.07    0.195510\n",
       "0.08    0.222150\n",
       "0.09    0.248643\n",
       "0.10    0.275621\n",
       "Name: ensemble, dtype: float64"
      ]
     },
     "execution_count": 11,
     "metadata": {},
     "output_type": "execute_result"
    }
   ],
   "source": [
    "m  # MSDs"
   ]
  },
  {
   "cell_type": "code",
   "execution_count": 12,
   "metadata": {},
   "outputs": [
    {
     "data": {
      "text/plain": [
       "lagt\n",
       "0.01    0.000229\n",
       "0.02    0.000380\n",
       "0.03    0.000532\n",
       "0.04    0.000701\n",
       "0.05    0.000907\n",
       "0.06    0.001037\n",
       "0.07    0.001265\n",
       "0.08    0.001435\n",
       "0.09    0.001686\n",
       "0.10    0.001954\n",
       "Name: ensemble, dtype: float64"
      ]
     },
     "execution_count": 12,
     "metadata": {},
     "output_type": "execute_result"
    }
   ],
   "source": [
    "e  # standard errors"
   ]
  },
  {
   "cell_type": "markdown",
   "metadata": {},
   "source": [
    "Now, fit a linear (Brownian) model to the results, using only the first two lag times and plot the results.\n",
    "Account for motion during exposure."
   ]
  },
  {
   "cell_type": "code",
   "execution_count": 13,
   "metadata": {},
   "outputs": [
    {
     "data": {
      "text/plain": [
       "<matplotlib.axes._subplots.AxesSubplot at 0x7ff1d99adfd0>"
      ]
     },
     "execution_count": 13,
     "metadata": {},
     "output_type": "execute_result"
    },
    {
     "data": {
      "image/png": "[encoded data removed]",
      "text/plain": [
       "<Figure size 432x288 with 1 Axes>"
      ]
     },
     "metadata": {
      "needs_background": "light"
     },
     "output_type": "display_data"
    }
   ],
   "source": [
    "fit_result = msd_result.fit(\"brownian\", n_lag=2, exposure_time=exposure_time)\n",
    "fig, ax = plt.subplots()\n",
    "fit_result.plot(ax=ax)"
   ]
  },
  {
   "cell_type": "markdown",
   "metadata": {},
   "source": [
    "Fitting an anomalous model is supported as well.\n",
    "However, exposure time compensation is computationally expensive in this case and the fit can take a few minutes.\n",
    "Consider reducing the number of bootstrapping rounds, which was set to 1000 above."
   ]
  },
  {
   "cell_type": "code",
   "execution_count": 14,
   "metadata": {},
   "outputs": [
    {
     "data": {
      "text/plain": [
       "<matplotlib.axes._subplots.AxesSubplot at 0x7ff1d98a6390>"
      ]
     },
     "execution_count": 14,
     "metadata": {},
     "output_type": "execute_result"
    },
    {
     "data": {
      "image/png": "[encoded data removed]",
      "text/plain": [
       "<Figure size 432x288 with 1 Axes>"
      ]
     },
     "metadata": {
      "needs_background": "light"
     },
     "output_type": "display_data"
    }
   ],
   "source": [
    "fit_result_ano = msd_result.fit(\"anomalous\", exposure_time=exposure_time)\n",
    "fit_result_ano.plot()"
   ]
  },
  {
   "cell_type": "markdown",
   "metadata": {},
   "source": [
    "It is also possible to calculate MSDs and fit results individually for each track by setting `ensemble = False`."
   ]
  },
  {
   "cell_type": "code",
   "execution_count": 15,
   "metadata": {},
   "outputs": [],
   "source": [
    "msd_result_ind = motion.Msd(trc_filtered, fps, n_lag=10, ensemble=False, n_boot=100)\n",
    "mi, ei = msd_result_ind.get_msd()"
   ]
  },
  {
   "cell_type": "code",
   "execution_count": 16,
   "metadata": {},
   "outputs": [
    {
     "data": {
      "text/html": [
       "<div>\n",
       "<style scoped>\n",
       "    .dataframe tbody tr th:only-of-type {\n",
       "        vertical-align: middle;\n",
       "    }\n",
       "\n",
       "    .dataframe tbody tr th {\n",
       "        vertical-align: top;\n",
       "    }\n",
       "\n",
       "    .dataframe thead th {\n",
       "        text-align: right;\n",
       "    }\n",
       "</style>\n",
       "<table border=\"1\" class=\"dataframe\">\n",
       "  <thead>\n",
       "    <tr style=\"text-align: right;\">\n",
       "      <th></th>\n",
       "      <th>lagt</th>\n",
       "      <th>0.01</th>\n",
       "      <th>0.02</th>\n",
       "      <th>0.03</th>\n",
       "      <th>0.04</th>\n",
       "      <th>0.05</th>\n",
       "      <th>0.06</th>\n",
       "      <th>0.07</th>\n",
       "      <th>0.08</th>\n",
       "      <th>0.09</th>\n",
       "      <th>0.10</th>\n",
       "    </tr>\n",
       "    <tr>\n",
       "      <th>file</th>\n",
       "      <th>particle</th>\n",
       "      <th></th>\n",
       "      <th></th>\n",
       "      <th></th>\n",
       "      <th></th>\n",
       "      <th></th>\n",
       "      <th></th>\n",
       "      <th></th>\n",
       "      <th></th>\n",
       "      <th></th>\n",
       "      <th></th>\n",
       "    </tr>\n",
       "  </thead>\n",
       "  <tbody>\n",
       "    <tr>\n",
       "      <th rowspan=\"5\" valign=\"top\">0</th>\n",
       "      <th>1</th>\n",
       "      <td>1.228769</td>\n",
       "      <td>2.479449</td>\n",
       "      <td>3.752335</td>\n",
       "      <td>5.210911</td>\n",
       "      <td>6.704611</td>\n",
       "      <td>8.771279</td>\n",
       "      <td>10.596984</td>\n",
       "      <td>12.008024</td>\n",
       "      <td>13.412429</td>\n",
       "      <td>15.228244</td>\n",
       "    </tr>\n",
       "    <tr>\n",
       "      <th>2</th>\n",
       "      <td>1.295761</td>\n",
       "      <td>3.095101</td>\n",
       "      <td>3.672923</td>\n",
       "      <td>5.290416</td>\n",
       "      <td>5.404057</td>\n",
       "      <td>3.818655</td>\n",
       "      <td>3.539496</td>\n",
       "      <td>2.059315</td>\n",
       "      <td>0.273488</td>\n",
       "      <td>0.514299</td>\n",
       "    </tr>\n",
       "    <tr>\n",
       "      <th>3</th>\n",
       "      <td>1.325384</td>\n",
       "      <td>3.102829</td>\n",
       "      <td>4.027113</td>\n",
       "      <td>6.267075</td>\n",
       "      <td>7.349433</td>\n",
       "      <td>9.100158</td>\n",
       "      <td>11.028646</td>\n",
       "      <td>11.700461</td>\n",
       "      <td>13.131987</td>\n",
       "      <td>14.948575</td>\n",
       "    </tr>\n",
       "    <tr>\n",
       "      <th>4</th>\n",
       "      <td>1.533386</td>\n",
       "      <td>2.279904</td>\n",
       "      <td>2.860151</td>\n",
       "      <td>4.187908</td>\n",
       "      <td>4.680032</td>\n",
       "      <td>5.571320</td>\n",
       "      <td>6.215156</td>\n",
       "      <td>6.042335</td>\n",
       "      <td>6.756272</td>\n",
       "      <td>8.330533</td>\n",
       "    </tr>\n",
       "    <tr>\n",
       "      <th>5</th>\n",
       "      <td>4.703418</td>\n",
       "      <td>7.234873</td>\n",
       "      <td>6.875298</td>\n",
       "      <td>9.322612</td>\n",
       "      <td>8.954527</td>\n",
       "      <td>11.348023</td>\n",
       "      <td>9.314399</td>\n",
       "      <td>11.855144</td>\n",
       "      <td>12.949598</td>\n",
       "      <td>13.346201</td>\n",
       "    </tr>\n",
       "    <tr>\n",
       "      <th>...</th>\n",
       "      <th>...</th>\n",
       "      <td>...</td>\n",
       "      <td>...</td>\n",
       "      <td>...</td>\n",
       "      <td>...</td>\n",
       "      <td>...</td>\n",
       "      <td>...</td>\n",
       "      <td>...</td>\n",
       "      <td>...</td>\n",
       "      <td>...</td>\n",
       "      <td>...</td>\n",
       "    </tr>\n",
       "    <tr>\n",
       "      <th rowspan=\"5\" valign=\"top\">9</th>\n",
       "      <th>967</th>\n",
       "      <td>1.590572</td>\n",
       "      <td>3.194190</td>\n",
       "      <td>3.535899</td>\n",
       "      <td>5.135505</td>\n",
       "      <td>5.317722</td>\n",
       "      <td>2.183953</td>\n",
       "      <td>0.307260</td>\n",
       "      <td>0.678055</td>\n",
       "      <td>0.603281</td>\n",
       "      <td>NaN</td>\n",
       "    </tr>\n",
       "    <tr>\n",
       "      <th>968</th>\n",
       "      <td>1.246474</td>\n",
       "      <td>2.382213</td>\n",
       "      <td>2.146956</td>\n",
       "      <td>3.894493</td>\n",
       "      <td>2.165905</td>\n",
       "      <td>4.558824</td>\n",
       "      <td>1.752611</td>\n",
       "      <td>1.483072</td>\n",
       "      <td>NaN</td>\n",
       "      <td>NaN</td>\n",
       "    </tr>\n",
       "    <tr>\n",
       "      <th>969</th>\n",
       "      <td>0.423189</td>\n",
       "      <td>2.062741</td>\n",
       "      <td>3.385679</td>\n",
       "      <td>7.064767</td>\n",
       "      <td>9.327513</td>\n",
       "      <td>10.636168</td>\n",
       "      <td>NaN</td>\n",
       "      <td>NaN</td>\n",
       "      <td>NaN</td>\n",
       "      <td>NaN</td>\n",
       "    </tr>\n",
       "    <tr>\n",
       "      <th>970</th>\n",
       "      <td>1.883300</td>\n",
       "      <td>3.246744</td>\n",
       "      <td>4.217882</td>\n",
       "      <td>6.023340</td>\n",
       "      <td>6.800641</td>\n",
       "      <td>7.028635</td>\n",
       "      <td>7.900612</td>\n",
       "      <td>7.912594</td>\n",
       "      <td>7.958318</td>\n",
       "      <td>9.121586</td>\n",
       "    </tr>\n",
       "    <tr>\n",
       "      <th>973</th>\n",
       "      <td>1.360312</td>\n",
       "      <td>1.987369</td>\n",
       "      <td>2.150303</td>\n",
       "      <td>3.632176</td>\n",
       "      <td>2.927826</td>\n",
       "      <td>NaN</td>\n",
       "      <td>NaN</td>\n",
       "      <td>NaN</td>\n",
       "      <td>NaN</td>\n",
       "      <td>NaN</td>\n",
       "    </tr>\n",
       "  </tbody>\n",
       "</table>\n",
       "<p>3367 rows × 10 columns</p>\n",
       "</div>"
      ],
      "text/plain": [
       "lagt               0.01      0.02      0.03      0.04      0.05       0.06  \\\n",
       "file particle                                                                \n",
       "0    1         1.228769  2.479449  3.752335  5.210911  6.704611   8.771279   \n",
       "     2         1.295761  3.095101  3.672923  5.290416  5.404057   3.818655   \n",
       "     3         1.325384  3.102829  4.027113  6.267075  7.349433   9.100158   \n",
       "     4         1.533386  2.279904  2.860151  4.187908  4.680032   5.571320   \n",
       "     5         4.703418  7.234873  6.875298  9.322612  8.954527  11.348023   \n",
       "...                 ...       ...       ...       ...       ...        ...   \n",
       "9    967       1.590572  3.194190  3.535899  5.135505  5.317722   2.183953   \n",
       "     968       1.246474  2.382213  2.146956  3.894493  2.165905   4.558824   \n",
       "     969       0.423189  2.062741  3.385679  7.064767  9.327513  10.636168   \n",
       "     970       1.883300  3.246744  4.217882  6.023340  6.800641   7.028635   \n",
       "     973       1.360312  1.987369  2.150303  3.632176  2.927826        NaN   \n",
       "\n",
       "lagt                0.07       0.08       0.09       0.10  \n",
       "file particle                                              \n",
       "0    1         10.596984  12.008024  13.412429  15.228244  \n",
       "     2          3.539496   2.059315   0.273488   0.514299  \n",
       "     3         11.028646  11.700461  13.131987  14.948575  \n",
       "     4          6.215156   6.042335   6.756272   8.330533  \n",
       "     5          9.314399  11.855144  12.949598  13.346201  \n",
       "...                  ...        ...        ...        ...  \n",
       "9    967        0.307260   0.678055   0.603281        NaN  \n",
       "     968        1.752611   1.483072        NaN        NaN  \n",
       "     969             NaN        NaN        NaN        NaN  \n",
       "     970        7.900612   7.912594   7.958318   9.121586  \n",
       "     973             NaN        NaN        NaN        NaN  \n",
       "\n",
       "[3367 rows x 10 columns]"
      ]
     },
     "execution_count": 16,
     "metadata": {},
     "output_type": "execute_result"
    }
   ],
   "source": [
    "mi"
   ]
  },
  {
   "cell_type": "code",
   "execution_count": 17,
   "metadata": {},
   "outputs": [
    {
     "data": {
      "text/html": [
       "<div>\n",
       "<style scoped>\n",
       "    .dataframe tbody tr th:only-of-type {\n",
       "        vertical-align: middle;\n",
       "    }\n",
       "\n",
       "    .dataframe tbody tr th {\n",
       "        vertical-align: top;\n",
       "    }\n",
       "\n",
       "    .dataframe thead th {\n",
       "        text-align: right;\n",
       "    }\n",
       "</style>\n",
       "<table border=\"1\" class=\"dataframe\">\n",
       "  <thead>\n",
       "    <tr style=\"text-align: right;\">\n",
       "      <th></th>\n",
       "      <th>parameter</th>\n",
       "      <th>D</th>\n",
       "      <th>eps</th>\n",
       "    </tr>\n",
       "    <tr>\n",
       "      <th>file</th>\n",
       "      <th>particle</th>\n",
       "      <th></th>\n",
       "      <th></th>\n",
       "    </tr>\n",
       "  </thead>\n",
       "  <tbody>\n",
       "    <tr>\n",
       "      <th rowspan=\"5\" valign=\"top\">0</th>\n",
       "      <th>1</th>\n",
       "      <td>31.266999</td>\n",
       "      <td>0.097379</td>\n",
       "    </tr>\n",
       "    <tr>\n",
       "      <th>2</th>\n",
       "      <td>44.983510</td>\n",
       "      <td>-0.131778</td>\n",
       "    </tr>\n",
       "    <tr>\n",
       "      <th>3</th>\n",
       "      <td>44.436135</td>\n",
       "      <td>-0.082546</td>\n",
       "    </tr>\n",
       "    <tr>\n",
       "      <th>4</th>\n",
       "      <td>18.662961</td>\n",
       "      <td>0.439842</td>\n",
       "    </tr>\n",
       "    <tr>\n",
       "      <th>5</th>\n",
       "      <td>63.286382</td>\n",
       "      <td>0.514468</td>\n",
       "    </tr>\n",
       "    <tr>\n",
       "      <th>...</th>\n",
       "      <th>...</th>\n",
       "      <td>...</td>\n",
       "      <td>...</td>\n",
       "    </tr>\n",
       "    <tr>\n",
       "      <th rowspan=\"5\" valign=\"top\">9</th>\n",
       "      <th>967</th>\n",
       "      <td>40.090462</td>\n",
       "      <td>0.068961</td>\n",
       "    </tr>\n",
       "    <tr>\n",
       "      <th>968</th>\n",
       "      <td>28.393463</td>\n",
       "      <td>0.113103</td>\n",
       "    </tr>\n",
       "    <tr>\n",
       "      <th>969</th>\n",
       "      <td>40.988808</td>\n",
       "      <td>-0.428546</td>\n",
       "    </tr>\n",
       "    <tr>\n",
       "      <th>970</th>\n",
       "      <td>34.086103</td>\n",
       "      <td>0.311316</td>\n",
       "    </tr>\n",
       "    <tr>\n",
       "      <th>973</th>\n",
       "      <td>15.676444</td>\n",
       "      <td>0.325881</td>\n",
       "    </tr>\n",
       "  </tbody>\n",
       "</table>\n",
       "<p>3367 rows × 2 columns</p>\n",
       "</div>"
      ],
      "text/plain": [
       "parameter              D       eps\n",
       "file particle                     \n",
       "0    1         31.266999  0.097379\n",
       "     2         44.983510 -0.131778\n",
       "     3         44.436135 -0.082546\n",
       "     4         18.662961  0.439842\n",
       "     5         63.286382  0.514468\n",
       "...                  ...       ...\n",
       "9    967       40.090462  0.068961\n",
       "     968       28.393463  0.113103\n",
       "     969       40.988808 -0.428546\n",
       "     970       34.086103  0.311316\n",
       "     973       15.676444  0.325881\n",
       "\n",
       "[3367 rows x 2 columns]"
      ]
     },
     "execution_count": 17,
     "metadata": {},
     "output_type": "execute_result"
    }
   ],
   "source": [
    "fit_result_ind = msd_result_ind.fit(\"brownian\", n_lag=2, exposure_time=exposure_time)\n",
    "fit_result_ind.get_results()[0]"
   ]
  },
  {
   "cell_type": "markdown",
   "metadata": {},
   "source": [
    "## Calculate diffusion coefficients from distributions of squared deviations\n",
    "\n",
    "By fitting the cumulative distribution function of the individual square displacements, it is also possible to deterine the diffusion constant.\n",
    "It is even possible to identify different fractions of particles with by their diffusion speed.\n",
    "For further information, please consult the documentation.\n",
    "\n",
    "This is computationally more expensive than fitting of $t_\\text{lag}$ vs. MSD curves.\n",
    "Especially with bootstrapping this can take a few minutes.\n",
    "\n",
    "In the following, a fit for two components with potentially differing diffusive behavior will be performed."
   ]
  },
  {
   "cell_type": "code",
   "execution_count": 18,
   "metadata": {},
   "outputs": [],
   "source": [
    "msd_cdf = motion.MsdDist(trc_filtered, fps, n_components=2, n_boot=100, pixel_size=pixel_size, n_lag=10)"
   ]
  },
  {
   "cell_type": "code",
   "execution_count": 19,
   "metadata": {},
   "outputs": [],
   "source": [
    "res = msd_cdf.get_msd()"
   ]
  },
  {
   "cell_type": "markdown",
   "metadata": {},
   "source": [
    "`res[i]` represents the i-th component and has following attributes:\n",
    "- `msd`: MSDs\n",
    "- `msd_err`: Standard errors of MSDs\n",
    "- `weight`: Statistical weight of the i-th component\n",
    "- `weight_err`: Standard errors of the weights"
   ]
  },
  {
   "cell_type": "code",
   "execution_count": 20,
   "metadata": {},
   "outputs": [
    {
     "data": {
      "text/plain": [
       "lagt\n",
       "0.01    0.009071\n",
       "0.02    0.012048\n",
       "0.03    0.011614\n",
       "0.04    0.012025\n",
       "0.05    0.010120\n",
       "0.06    0.009077\n",
       "0.07    0.010160\n",
       "0.08    0.009171\n",
       "0.09    0.008792\n",
       "0.10    0.007637\n",
       "Name: ensemble, dtype: float64"
      ]
     },
     "execution_count": 20,
     "metadata": {},
     "output_type": "execute_result"
    }
   ],
   "source": [
    "res[0].msd"
   ]
  },
  {
   "cell_type": "markdown",
   "metadata": {},
   "source": [
    "Perform a Brownian model fit for each component using all lag times."
   ]
  },
  {
   "cell_type": "code",
   "execution_count": 21,
   "metadata": {},
   "outputs": [
    {
     "data": {
      "image/png": "[encoded data removed]",
      "text/plain": [
       "<Figure size 864x360 with 3 Axes>"
      ]
     },
     "metadata": {
      "needs_background": "light"
     },
     "output_type": "display_data"
    }
   ],
   "source": [
    "msd_cdf_fit = msd_cdf.fit(\"brownian\", n_lag=np.inf, exposure_time=exposure_time)\n",
    "fig = plt.figure(figsize=(12, 5), constrained_layout=True)\n",
    "msd_cdf_fit.plot(fig=fig);"
   ]
  },
  {
   "cell_type": "markdown",
   "metadata": {},
   "source": [
    "This analysis can also be performed on a per-trajectory level by setting `ensemble = False` when creating the \n",
    "`motion.MsdDist` instance.\n",
    "However, this is even more computationally expensive."
   ]
  },
  {
   "cell_type": "code",
   "execution_count": null,
   "metadata": {},
   "outputs": [],
   "source": []
  }
 ],
 "metadata": {
  "kernelspec": {
   "display_name": "Python 3",
   "language": "python",
   "name": "python3"
  },
  "language_info": {
   "codemirror_mode": {
    "name": "ipython",
    "version": 3
   },
   "file_extension": ".py",
   "mimetype": "text/x-python",
   "name": "python",
   "nbconvert_exporter": "python",
   "pygments_lexer": "ipython3",
   "version": "3.7.6"
  }
 },
 "nbformat": 4,
 "nbformat_minor": 4
}
